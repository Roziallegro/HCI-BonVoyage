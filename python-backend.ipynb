{
 "cells": [
  {
   "cell_type": "markdown",
   "metadata": {},
   "source": [
    "### Admin\n",
    "- run `pip freeze > requirements.txt`\n",
    "- build documentation\n",
    "- submit to github"
   ]
  },
  {
   "cell_type": "markdown",
   "metadata": {},
   "source": [
    "### Using Geonames API\n",
    "- react side"
   ]
  },
  {
   "cell_type": "markdown",
   "metadata": {},
   "source": [
    "### Ask Llama to check which acitvities to activate"
   ]
  },
  {
   "cell_type": "code",
   "execution_count": 83,
   "metadata": {},
   "outputs": [],
   "source": [
    "destination_json = {'country': \"United Kingdom\",\n",
    "               'city': \"London\",}"
   ]
  },
  {
   "cell_type": "code",
   "execution_count": 86,
   "metadata": {},
   "outputs": [],
   "source": [
    "from decouple import config # obtains information inside .ini or .env\n",
    "import replicate\n",
    "\n",
    "# admin configuation \n",
    "replicate_api_token = config('replicate_api_token')\n",
    "\n",
    "# prompt generation\n",
    "pre_prompt = \"\"\"You are a helpful, respectful and honest assistant. \n",
    "                Your answers should not include any harmful, unethical, racist, sexist, toxic, dangerous, or illegal content. \n",
    "                Please ensure that your responses are socially unbiased and positive in nature.\n",
    "                \"\"\"\n",
    "\n",
    "# This one only outputs individual places (without description)\n",
    "prompt_input_0 = \"\"\"Can you categorise {}, {} as one of the following:\n",
    "                    - Kid friendly\n",
    "                    - Pet friendly\n",
    "                    - Wheelchair friendly\n",
    "                    - Shopping\n",
    "                    - Amusement parks\n",
    "                    - Shopping\n",
    "                    - Museums\n",
    "                    - Parks and scenic plane\n",
    "                    - Theatre & Cultural activities\n",
    "                    - Historical sites\n",
    "                    - Food galore\n",
    "\n",
    "                    Once you categorised it, you only need to return the activities that exist in the city. \n",
    "                    For instance, if London does not have Amusement Parks, then exclude it from the list. \n",
    "                    If London is known for Shopping instead, then include it in a list of \"Confirmed categories: Shopping....\" as output.\n",
    "                    \"\"\".format(destination_json['country'], destination_json['city'])\n",
    "\n",
    "\n",
    "\n",
    "# getting the response\n",
    "def generate_recommendation(replicate_api_token, pre_prompt, prompt_input):\n",
    "    response = replicate.run(\n",
    "        \"meta/llama-2-13b-chat\",\n",
    "        input={\n",
    "            \"seed\": 2,\n",
    "            \"top_k\": 0,\n",
    "            \"top_p\": 1,\n",
    "            \"prompt\": prompt_input,\n",
    "            \"max_tokens\": 100,  # decrease this to generate less texts\n",
    "            \"temperature\": 0.25,\n",
    "            \"system_prompt\": pre_prompt,\n",
    "            \"length_penalty\": 0.5,\n",
    "            \"prompt_template\": \"<s>[INST] <<SYS>>\\n{system_prompt}\\n<</SYS>>\\n\\n{prompt} [/INST]\",\n",
    "            \"presence_penalty\": 0.5,\n",
    "            \"log_performance_metrics\": False\n",
    "        },\n",
    "    )\n",
    "\n",
    "    # formatting 1: turning it into a whole paragraph\n",
    "    full_response = ''\n",
    "    for item in response:\n",
    "        full_response += item\n",
    "\n",
    "    # formatting 2: only capturing those from \"places listed:...\" format\n",
    "    def format_0(full_response):\n",
    "        for item in full_response.split(\"\\n\\n\"):\n",
    "            if \"*\" in item: # they would be given in a \"* Place - Description\" format\n",
    "                item = item.split(\"\\n*\")\n",
    "                break\n",
    "\n",
    "        for i in range(len(item)):\n",
    "            item[i] = item[i].replace(\"*\", \"\").strip()\n",
    "\n",
    "        return {\"activities\": item}\n",
    "            \n",
    "    return format_0(full_response)\n",
    "            \n",
    "\n",
    "activities_recommendations_json = generate_recommendation(replicate_api_token, pre_prompt, prompt_input_0)\n",
    "    "
   ]
  },
  {
   "cell_type": "code",
   "execution_count": 88,
   "metadata": {},
   "outputs": [
    {
     "data": {
      "text/plain": [
       "{'activities': ['Shopping',\n",
       "  'Museums',\n",
       "  'Parks and scenic plane',\n",
       "  'Theatre & Cultural activities',\n",
       "  'Historical sites',\n",
       "  'Food galore']}"
      ]
     },
     "execution_count": 88,
     "metadata": {},
     "output_type": "execute_result"
    }
   ],
   "source": [
    "activities_recommendations_json"
   ]
  },
  {
   "cell_type": "markdown",
   "metadata": {},
   "source": [
    "### Using Bing API Search key to web-scrape information online\n",
    "\n",
    "[Tutorial 1](https://www.scrapingdog.com/blog/scrape-bing/#Scraping_URLs_from_Bing): \n",
    "Selenium doesn't work as it gives \"no results\" when web-scraped directly so we'll use Bing Search API\n",
    "\n",
    "[Tutorial 2](https://www.youtube.com/watch?v=QxHDX5_SERA):\n",
    "The one that we'll follow"
   ]
  },
  {
   "cell_type": "markdown",
   "metadata": {},
   "source": [
    "Activities list:\n",
    "- Kid friendly\n",
    "- Pet friendly\n",
    "- Wheelchair friendly\n",
    "- Shopping\n",
    "- Amusement parks\n",
    "- Shopping\n",
    "- Museums\n",
    "- Parks and scenic plane\n",
    "- Theatre & Cultural activities\n",
    "- Historical sites\n",
    "- Food galore => include dietary restrictions\n",
    "\n",
    "Of up to 10 categories "
   ]
  },
  {
   "cell_type": "code",
   "execution_count": 60,
   "metadata": {},
   "outputs": [],
   "source": [
    "# taken from react-server, activities preferences\n",
    "acitivities_json = [{'country': \"United Kingdom\",\n",
    "               'city': \"London\",\n",
    "               'category':[\"Kid friendly\"]}] # \"Amusement Parks\", \"Museums\""
   ]
  },
  {
   "cell_type": "code",
   "execution_count": 61,
   "metadata": {},
   "outputs": [],
   "source": [
    "from decouple import config # obtains information inside .ini or .env\n",
    "import requests\n",
    "from bs4 import BeautifulSoup\n",
    "\n",
    "\n",
    "# admin configuation \n",
    "subscription_key = config('subscription_key_search', default='')\n",
    "\n",
    "\n",
    "# declaring bing end-point for search\n",
    "def get_results_for(subscription_key, search_term):\n",
    "    search_url = \"https://api.bing.microsoft.com/v7.0/search\"\n",
    "\n",
    "    headers = {\"Ocp-Apim-Subscription-Key\": subscription_key}\n",
    "    params = {\"q\": search_term, \"textDecorations\": True, \"textFormat\": \"HTML\"}  ##answerCount filter, count?\n",
    "\n",
    "    response = requests.get(search_url, headers=headers, params=params)\n",
    "    response.raise_for_status()\n",
    "    # we limit our results to first relevant 5 searches\n",
    "    search_results = response.json()[\"webPages\"][\"value\"][:5]\n",
    "    return search_results\n",
    "\n",
    "\n",
    "# creating a pipeline for quering potential places to show the swipping mechanism\n",
    "def create_search_term_recommendations(subscription_key, acitivities_json):\n",
    "    # sites we want to omit as the robustness of data is bad\n",
    "    omit = [\"Tripadvisor\"]\n",
    "\n",
    "    results = []\n",
    "\n",
    "    # unpacking the activities json to send to API\n",
    "    for cat in range(len(acitivities_json[0][\"category\"])):\n",
    "        search_term = \"Search for {} locations in {} {}\".format(acitivities_json[0][\"category\"][cat], \n",
    "                                                                acitivities_json[0][\"city\"], \n",
    "                                                                acitivities_json[0][\"country\"])\n",
    "\n",
    "        bing_results = get_results_for(subscription_key, search_term)\n",
    "\n",
    "        # process each of the 5 results by:\n",
    "        for res in bing_results:\n",
    "            # ensuring that the siteName isn't in the omitted sites\n",
    "            if res[\"siteName\"] not in omit:\n",
    "                # serialise it into site-name & url\n",
    "                #results.append({'siteName': res[\"siteName\"],\n",
    "                #                'url': res[\"url\"]})\n",
    "                results.append(res[\"url\"])\n",
    "                # only get the first url\n",
    "                break\n",
    "\n",
    "    return results\n",
    "\n",
    "locations_recommendations_url = create_search_term_recommendations(subscription_key, acitivities_json)"
   ]
  },
  {
   "cell_type": "code",
   "execution_count": 63,
   "metadata": {},
   "outputs": [
    {
     "data": {
      "text/plain": [
       "['https://www.discoverwalks.com/blog/london/londons-best-kept-secrets-30-kid-friendly-activities-and-places-to-visit/']"
      ]
     },
     "execution_count": 63,
     "metadata": {},
     "output_type": "execute_result"
    }
   ],
   "source": [
    "locations_recommendations_url"
   ]
  },
  {
   "cell_type": "code",
   "execution_count": 19,
   "metadata": {},
   "outputs": [
    {
     "data": {
      "text/plain": [
       "[{'siteName': 'Discover Walks',\n",
       "  'url': 'https://www.discoverwalks.com/blog/london/londons-best-kept-secrets-30-kid-friendly-activities-and-places-to-visit/'},\n",
       " {'siteName': 'visitlondon.com',\n",
       "  'url': 'https://www.visitlondon.com/things-to-do/family-activities/101-things-to-do-with-kids-in-london'},\n",
       " {'siteName': 'girl gone london',\n",
       "  'url': 'https://girlgonelondon.com/things-to-do-in-london-with-kids/'},\n",
       " {'siteName': 'Four Around The World',\n",
       "  'url': 'https://fouraroundtheworld.com/things-to-do-in-london/'}]"
      ]
     },
     "execution_count": 19,
     "metadata": {},
     "output_type": "execute_result"
    }
   ],
   "source": [
    "# original one\n",
    "locations_recommendations"
   ]
  },
  {
   "cell_type": "markdown",
   "metadata": {},
   "source": [
    "### Using Llama 2 to summarise and bundle up the search results by Bing API\n",
    "\n",
    "[Tutorial 1](https://www.youtube.com/watch?v=dBoQLktIkOo)"
   ]
  },
  {
   "cell_type": "code",
   "execution_count": 23,
   "metadata": {},
   "outputs": [],
   "source": [
    "locations_recommendations_url = [\"https://www.discoverwalks.com/blog/london/londons-best-kept-secrets-30-kid-friendly-activities-and-places-to-visit/\",\n",
    "                                  \"https://www.visitlondon.com/things-to-do/openspace/best-parks-in-london\"]\n"
   ]
  },
  {
   "cell_type": "code",
   "execution_count": 37,
   "metadata": {},
   "outputs": [],
   "source": [
    "from decouple import config # obtains information inside .ini or .env\n",
    "import replicate\n",
    "\n",
    "# admin configuation \n",
    "replicate_api_token = config('replicate_api_token')\n",
    "\n",
    "# prompt generation\n",
    "pre_prompt = \"\"\"You are a helpful, respectful and honest assistant. \n",
    "                Your answers should not include any harmful, unethical, racist, sexist, toxic, dangerous, or illegal content. \n",
    "                Please ensure that your responses are socially unbiased and positive in nature.\n",
    "                \"\"\"\n",
    "\n",
    "# This one only outputs individual places (without description)\n",
    "prompt_input_1 = \"\"\"Please summarise the following websites: \n",
    "                {}\n",
    "                Create a combined list of destinations found from the sites above. \n",
    "                It must be in a single line separated by commas. \n",
    "                Format your output in the form of \"Places listed: [place 1, place 2, place 3, ....]\"\n",
    "                \"\"\".format(locations_recommendations_url)\n",
    "\n",
    "# Outputs individual places with description\n",
    "prompt_input_2 = \"\"\"Please summarise the following websites: \n",
    "                {}\n",
    "                Create a combined list of destinations found from the sites above.\n",
    "                Give a brief description for each destination presented. \n",
    "                It must be in a single line separated by commas. \n",
    "                Format your output in the form of \"Places listed: \n",
    "                * place 1 - description of place 1\n",
    "                * place 2 - description of place 2\n",
    "                * place 3 - description of place 3\n",
    "                ....\"\n",
    "                \"\"\".format(locations_recommendations_url)\n",
    "\n",
    "\n",
    "# getting the response\n",
    "def generate_location_recommendation(replicate_api_token, pre_prompt, prompt_input):\n",
    "    response = replicate.run(\n",
    "        \"meta/llama-2-13b-chat\",\n",
    "        input={\n",
    "            \"seed\": 2,\n",
    "            \"top_k\": 0,\n",
    "            \"top_p\": 1,\n",
    "            \"prompt\": prompt_input,\n",
    "            \"max_tokens\": 612,  # increase this to generate more results  ##SOURCE OF ERROR??\n",
    "            \"temperature\": 0.75,\n",
    "            \"system_prompt\": pre_prompt,\n",
    "            \"length_penalty\": 1,\n",
    "            \"prompt_template\": \"<s>[INST] <<SYS>>\\n{system_prompt}\\n<</SYS>>\\n\\n{prompt} [/INST]\",\n",
    "            \"presence_penalty\": 0.5,\n",
    "            \"log_performance_metrics\": False\n",
    "        },\n",
    "    )\n",
    "\n",
    "    # formatting 1: turning it into a whole paragraph\n",
    "    full_response = ''\n",
    "    for item in response:\n",
    "        full_response += item\n",
    "\n",
    "    # formatting 2: only capturing those from \"places listed:...\" format\n",
    "    def format_2(full_response):\n",
    "        for item in full_response.split(\"\\n\"):\n",
    "            if \"Places listed:\" in item:\n",
    "                return item.strip(\"Places listed:\").split(',')\n",
    "    #return format_2(full_response)\n",
    "\n",
    "    # format 3: same as format_2 but to be used with descriptions\n",
    "    def format_3(full_response):\n",
    "        for item in full_response.split(\"\\n\\n\"):\n",
    "            if \"*\" in item: # they would be given in a \"* Place - Description\" format\n",
    "                #print(item.split(\"\\n*\"))\n",
    "                return item.split(\"\\n*\")\n",
    "            \n",
    "    return format_3(full_response)\n",
    "            \n",
    "\n",
    "locations_recommendations_list = generate_location_recommendation(replicate_api_token, pre_prompt, prompt_input_2)\n",
    "    "
   ]
  },
  {
   "cell_type": "code",
   "execution_count": 38,
   "metadata": {},
   "outputs": [
    {
     "data": {
      "text/plain": [
       "['* The London Eye - a iconic Ferris wheel offering stunning views of the city',\n",
       " ' The British Museum - a world-class museum featuring a vast collection of artifacts from around the world',\n",
       " ' The Tower of London - a historic castle and former prison, now home to the Crown Jewels',\n",
       " ' Hyde Park - a sprawling green space perfect for picnics, boating, and people-watching',\n",
       " ' Kew Gardens - a beautiful botanical garden featuring thousands of plant species and a treetop walkway',\n",
       " ' The Shard - a sleek skyscraper offering panoramic views of the city from its viewing platform',\n",
       " ' The National Gallery - a renowned art museum featuring works by artists such as Leonardo da Vinci, Michelangelo, and Vincent van Gogh',\n",
       " ' Covent Garden - a bustling square filled with street performers, boutiques, and restaurants',\n",
       " ' The Natural History Museum - a family-friendly museum featuring exhibits on dinosaurs, space, and the natural world',\n",
       " ' The Sky Garden - a free public garden on the 35th floor of the Walkie-Talkie building, offering panoramic views of the city',\n",
       " ' The Diana Memorial Playground - a whimsical and imaginative playground inspired by Peter Pan',\n",
       " ' The Grant Museum of Zoology - a quirky museum featuring an eclectic collection of taxidermied animals',\n",
       " ' The Museum of London - a museum showcasing the history of London from prehistoric times to the present day',\n",
       " ' The Royal Observatory - a historic astronomical observatory offering tours and stunning views of the city',\n",
       " ' The Horniman Museum and Gardens - a museum featuring exhibits on anthropology, natural history, and music',\n",
       " ' The Victoria and Albert Museum - a world-renowned art and design museum featuring a diverse collection of objects from around the world.']"
      ]
     },
     "execution_count": 38,
     "metadata": {},
     "output_type": "execute_result"
    }
   ],
   "source": [
    "# for prompt 2\n",
    "locations_recommendations_list"
   ]
  },
  {
   "cell_type": "code",
   "execution_count": 53,
   "metadata": {},
   "outputs": [
    {
     "data": {
      "text/plain": [
       "['Hyde Park',\n",
       " \" Regent's Park\",\n",
       " ' Primrose Hill',\n",
       " ' Hampstead Heath',\n",
       " ' Green Park',\n",
       " \" St. James's Park\",\n",
       " ' Covent Garden',\n",
       " ' Kew Gardens',\n",
       " ' Richmond Park',\n",
       " ' Hampton Court Palace',\n",
       " ' Tower of London',\n",
       " ' London Zoo',\n",
       " ' Natural History Museum',\n",
       " ' British Museum',\n",
       " ' Science Museum',\n",
       " ' Diana Memorial Playground',\n",
       " ' Grant Museum of Zoology',\n",
       " ' London Bridge',\n",
       " ' Tower Bridge',\n",
       " ' Oxford Street',\n",
       " ' Bond Street',\n",
       " ' Camden Market',\n",
       " ' Brick Lane Market',\n",
       " ' Borough Market',\n",
       " ' and Southbank Centre.']"
      ]
     },
     "execution_count": 53,
     "metadata": {},
     "output_type": "execute_result"
    }
   ],
   "source": [
    "# for prompt 1\n",
    "locations_recommendations_list"
   ]
  },
  {
   "cell_type": "markdown",
   "metadata": {},
   "source": [
    "### Using Bing image query search API to get image photos and descriptions & formatting it to json"
   ]
  },
  {
   "cell_type": "code",
   "execution_count": 77,
   "metadata": {},
   "outputs": [],
   "source": [
    "locations_recommendations_list = ['* The London Eye - a iconic Ferris wheel offering stunning views of the city',\n",
    " ' The British Museum - a world-class museum featuring a vast collection of artifacts from around the world',\n",
    " ' The Tower of London - a historic castle and former prison, now home to the Crown Jewels']"
   ]
  },
  {
   "cell_type": "code",
   "execution_count": 80,
   "metadata": {},
   "outputs": [
    {
     "data": {
      "text/plain": [
       "[{'index': 0,\n",
       "  'location': 'The London Eye',\n",
       "  'description': 'A iconic Ferris wheel offering stunning views of the city',\n",
       "  'image_url': ['https://tse1.mm.bing.net/th?id=OIP.wUrEUGRR-TEkPow9CZOrtAHaE8&pid=Api']},\n",
       " {'index': 1,\n",
       "  'location': 'The British Museum',\n",
       "  'description': 'A world',\n",
       "  'image_url': ['https://tse1.mm.bing.net/th?id=OIP.UPuM4rlAPQHNu2bKzyTLxwHaFj&pid=Api']},\n",
       " {'index': 2,\n",
       "  'location': 'The Tower of London',\n",
       "  'description': 'A historic castle and former prison, now home to the Crown Jewels',\n",
       "  'image_url': ['https://tse3.mm.bing.net/th?id=OIP.U6aKBRt0ho2FBKXjuOo6-QHaE8&pid=Api']}]"
      ]
     },
     "execution_count": 80,
     "metadata": {},
     "output_type": "execute_result"
    }
   ],
   "source": [
    "import requests\n",
    "\n",
    "# admin configuation \n",
    "subscription_key = config('subscription_key_search', default='')\n",
    "\n",
    "\n",
    "# declaring bing end-point for search\n",
    "def get_results_for(subscription_key, search_term):\n",
    "    search_url = \"https://api.bing.microsoft.com/v7.0/images/search\"\n",
    "\n",
    "    headers = {\"Ocp-Apim-Subscription-Key\": subscription_key}\n",
    "    params = {\"q\": search_term, \"license\": \"Public\", \"imageType\": \"photo\"}  ##ADD IMAGE SIZE?\n",
    "\n",
    "    response = requests.get(search_url, headers=headers, params=params)\n",
    "    response.raise_for_status()\n",
    "    search_results = response.json()\n",
    "    thumbnail_urls = [img[\"thumbnailUrl\"] for img in search_results[\"value\"][:1]] # only retrieve the first one\n",
    "    return thumbnail_urls\n",
    "\n",
    "\n",
    "def create_search_term_recommendations(subscription_key, locations_recommendations_list):\n",
    "    results_json = []\n",
    "\n",
    "    # unpacking the locations_recommendations_list to format it and send to API\n",
    "    for index, loc in enumerate(locations_recommendations_list):\n",
    "        \n",
    "        loc = loc.split(\"-\")\n",
    "        location = loc[0].replace(\"*\", \"\").strip()\n",
    "        description = loc[1].replace(\".\", \"\").strip()\n",
    "        description = description[0].upper() + description[1:]\n",
    "\n",
    "        img_url = get_results_for(subscription_key, location)\n",
    "\n",
    "        # package everything in json as: {}\n",
    "        results_json.append({\"index\": index, \n",
    "                             \"location\": location, \n",
    "                             \"description\": description,\n",
    "                             \"image_url\": img_url})\n",
    "        \n",
    "\n",
    "    return results_json\n",
    "\n",
    "create_search_term_recommendations(subscription_key, locations_recommendations_list)"
   ]
  },
  {
   "cell_type": "code",
   "execution_count": null,
   "metadata": {},
   "outputs": [],
   "source": []
  }
 ],
 "metadata": {
  "kernelspec": {
   "display_name": "Python 3",
   "language": "python",
   "name": "python3"
  },
  "language_info": {
   "codemirror_mode": {
    "name": "ipython",
    "version": 3
   },
   "file_extension": ".py",
   "mimetype": "text/x-python",
   "name": "python",
   "nbconvert_exporter": "python",
   "pygments_lexer": "ipython3",
   "version": "3.8.10"
  }
 },
 "nbformat": 4,
 "nbformat_minor": 2
}
